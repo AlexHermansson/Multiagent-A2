{
 "cells": [
  {
   "cell_type": "code",
   "execution_count": 43,
   "metadata": {},
   "outputs": [],
   "source": [
    "import numpy as np\n",
    "import matplotlib.pyplot as plt\n",
    "\n",
    "class Node():\n",
    "    \n",
    "    def __init__(self, x, y, index):\n",
    "        self.x = x\n",
    "        self.y = y\n",
    "        self.p = np.array([x, y])\n",
    "        self.index = None\n",
    "\n",
    "def create_nodes(N = 5, plot = True):\n",
    "\n",
    "    locations = np.random.rand(N, 2)*5\n",
    "    nodes = []\n",
    "    for i, loc in enumerate(locations):\n",
    "        node = Node(loc[0], loc[1], i)\n",
    "        nodes.append(node)\n",
    "\n",
    "    if plot:\n",
    "        for node in nodes:\n",
    "            plt.scatter(node.x, node.y)\n",
    "        plt.axis([-1, 5, -1, 5])\n",
    "        plt.show()\n",
    "\n",
    "    return nodes\n",
    "\n",
    "nodes = create_nodes(N = 5, plot = True)"
   ]
  },
  {
   "cell_type": "code",
   "execution_count": null,
   "metadata": {},
   "outputs": [],
   "source": [
    "def visualize_individual(nodes, individual):\n",
    "    \n",
    "    sorted_nodes = np.zeros((N+1, 2))\n",
    "    for index in individual:\n",
    "        \n",
    "        # find the node with that index\n",
    "        for n in nodes:\n",
    "            if n.index == index:\n",
    "                node = n\n",
    "        "
   ]
  },
  {
   "cell_type": "code",
   "execution_count": 55,
   "metadata": {},
   "outputs": [],
   "source": [
    "def sample_individual(N=5):\n",
    "    \n",
    "    individual = np.arange(N)\n",
    "    np.random.shuffle(individual)\n",
    "    return individual"
   ]
  },
  {
   "cell_type": "code",
   "execution_count": null,
   "metadata": {},
   "outputs": [],
   "source": [
    "def fitness(individual, nodes):\n",
    "    pass"
   ]
  },
  {
   "cell_type": "code",
   "execution_count": null,
   "metadata": {},
   "outputs": [],
   "source": []
  }
 ],
 "metadata": {
  "kernelspec": {
   "display_name": "Python 3",
   "language": "python",
   "name": "python3"
  },
  "language_info": {
   "codemirror_mode": {
    "name": "ipython",
    "version": 3
   },
   "file_extension": ".py",
   "mimetype": "text/x-python",
   "name": "python",
   "nbconvert_exporter": "python",
   "pygments_lexer": "ipython3",
   "version": "3.5.3"
  }
 },
 "nbformat": 4,
 "nbformat_minor": 2
}
